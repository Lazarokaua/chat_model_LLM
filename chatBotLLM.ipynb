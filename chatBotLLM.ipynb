{
  "nbformat": 4,
  "nbformat_minor": 0,
  "metadata": {
    "colab": {
      "provenance": [],
      "authorship_tag": "ABX9TyMzDHJYRxKRAHBDpGdApLgk",
      "include_colab_link": true
    },
    "kernelspec": {
      "name": "python3",
      "display_name": "Python 3"
    },
    "language_info": {
      "name": "python"
    }
  },
  "cells": [
    {
      "cell_type": "markdown",
      "metadata": {
        "id": "view-in-github",
        "colab_type": "text"
      },
      "source": [
        "<a href=\"https://colab.research.google.com/github/Lazarokaua/chat_model_LLM/blob/main/chatBotLLM.ipynb\" target=\"_parent\"><img src=\"https://colab.research.google.com/assets/colab-badge.svg\" alt=\"Open In Colab\"/></a>"
      ]
    },
    {
      "cell_type": "markdown",
      "source": [
        "install SDK google"
      ],
      "metadata": {
        "id": "iOLcM4NWToee"
      }
    },
    {
      "cell_type": "code",
      "execution_count": null,
      "metadata": {
        "id": "B9luqAqKQM14"
      },
      "outputs": [],
      "source": [
        "pip install -q -U google-generativeai"
      ]
    },
    {
      "cell_type": "code",
      "source": [
        "import google.generativeai as genai\n",
        "from google.colab import userdata\n",
        "api_key = userdata.get('secret_key')\n",
        "genai.configure(api_key = api_key)"
      ],
      "metadata": {
        "id": "4bMi3plIUZ3r"
      },
      "execution_count": 27,
      "outputs": []
    },
    {
      "cell_type": "markdown",
      "source": [
        "Listar os modelos diponiveis"
      ],
      "metadata": {
        "id": "sXWp19EOUhnT"
      }
    },
    {
      "cell_type": "code",
      "source": [
        "# Change the variable name to 'supported_generation_methods'\n",
        "for m in genai.list_models():\n",
        "  if 'generateContent' in m.supported_generation_methods:\n",
        "    print(m.name)"
      ],
      "metadata": {
        "id": "b-02klNYUfhS"
      },
      "execution_count": null,
      "outputs": []
    },
    {
      "cell_type": "code",
      "source": [
        "generate_config = {\n",
        "    'candidate_count': 1,\n",
        "    'temperature': 0.7,\n",
        "    'top_k': 40,\n",
        "    'top_p': 0.7,\n",
        "}"
      ],
      "metadata": {
        "id": "pmNTCRbhXNkE"
      },
      "execution_count": 17,
      "outputs": []
    },
    {
      "cell_type": "code",
      "source": [
        "# config model\n",
        "model = genai.GenerativeModel(model_name='gemini-1.0-pro', generation_config = generate_config)"
      ],
      "metadata": {
        "id": "M9qAMjeyas5m"
      },
      "execution_count": 15,
      "outputs": []
    },
    {
      "cell_type": "code",
      "source": [
        "response = model.generate_content('Hello World!')\n",
        "print(response.text)"
      ],
      "metadata": {
        "id": "RQaZOWbdcN2r"
      },
      "execution_count": null,
      "outputs": []
    },
    {
      "cell_type": "code",
      "source": [
        "chat = model.start_chat(history = [])"
      ],
      "metadata": {
        "id": "RdVPIowXgo_o"
      },
      "execution_count": 19,
      "outputs": []
    },
    {
      "cell_type": "code",
      "source": [
        "name = input('Qual o seu nome? ')"
      ],
      "metadata": {
        "colab": {
          "base_uri": "https://localhost:8080/"
        },
        "id": "xsGeIBmvncYK",
        "outputId": "6a26397a-13b1-4742-b2aa-46fc5aaa34b1"
      },
      "execution_count": 21,
      "outputs": [
        {
          "name": "stdout",
          "output_type": "stream",
          "text": [
            "Qual o seu nome? Lázaro\n"
          ]
        }
      ]
    },
    {
      "cell_type": "code",
      "source": [
        "prompt = input(f'{name} Seus pensamentos e questionamentos. me diga, quais são eles: ')\n",
        "\n",
        "while prompt != 'fim':\n",
        "  response = chat.send_message(prompt)\n",
        "  print(\"resposta: \", response.text)\n",
        "  prompt = input(f'{name} tem mais alguma dúvida? descreva: ')"
      ],
      "metadata": {
        "id": "2uKr1Zc6hShS"
      },
      "execution_count": null,
      "outputs": []
    },
    {
      "cell_type": "code",
      "source": [
        "#Melhorando a visualização\n",
        "\n",
        "import textwrap\n",
        "\n",
        "from IPython.display import display, Markdown\n",
        "\n",
        "def to_terminal_markdown(text):\n",
        "    text = text.replace('.', ' |')\n",
        "    return Markdown(textwrap.indent(text, '| ', predicate=lambda _: True))\n",
        "\n",
        "\n",
        "# Imprimindo o histórico em formato de terminal\n",
        "\n",
        "for message in chat.history:\n",
        "    display(to_terminal_markdown(f'**{message.role}**: {message.parts[0].text}'))\n",
        "    print('|---------------------------------------------|')\n"
      ],
      "metadata": {
        "id": "uqm2s8NdojX2"
      },
      "execution_count": null,
      "outputs": []
    }
  ]
}