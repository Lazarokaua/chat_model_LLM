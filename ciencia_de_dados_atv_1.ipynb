{
  "nbformat": 4,
  "nbformat_minor": 0,
  "metadata": {
    "colab": {
      "provenance": [],
      "authorship_tag": "ABX9TyOkr0sCgNGV3ftLrrJ2QgYJ",
      "include_colab_link": true
    },
    "kernelspec": {
      "name": "python3",
      "display_name": "Python 3"
    },
    "language_info": {
      "name": "python"
    }
  },
  "cells": [
    {
      "cell_type": "markdown",
      "metadata": {
        "id": "view-in-github",
        "colab_type": "text"
      },
      "source": [
        "<a href=\"https://colab.research.google.com/github/Lazarokaua/chat_model_LLM/blob/main/ciencia_de_dados_atv_1.ipynb\" target=\"_parent\"><img src=\"https://colab.research.google.com/assets/colab-badge.svg\" alt=\"Open In Colab\"/></a>"
      ]
    },
    {
      "cell_type": "markdown",
      "source": [
        "# **Exercício 1 (Familiarização com Python):** ✅"
      ],
      "metadata": {
        "id": "rEVZcKKzAzAs"
      }
    },
    {
      "cell_type": "code",
      "execution_count": 1,
      "metadata": {
        "colab": {
          "base_uri": "https://localhost:8080/"
        },
        "id": "UljALIoX67MS",
        "outputId": "f6d880c0-f714-4bf4-802c-1ee0746e62d1"
      },
      "outputs": [
        {
          "output_type": "stream",
          "name": "stdout",
          "text": [
            "0\n",
            "1\n",
            "2\n",
            "3\n",
            "4\n"
          ]
        }
      ],
      "source": [
        "for counter in range(5):\n",
        "  print(counter)"
      ]
    },
    {
      "cell_type": "code",
      "source": [
        "example_dict = {'apples': 5, 'oranges': 8, 'bananas': 13}"
      ],
      "metadata": {
        "id": "srpDrLqTAbCq"
      },
      "execution_count": 2,
      "outputs": []
    },
    {
      "cell_type": "code",
      "source": [
        "dict_to_list = list(example_dict)\n",
        "dict_to_list"
      ],
      "metadata": {
        "colab": {
          "base_uri": "https://localhost:8080/"
        },
        "id": "ash6K4QgAeiD",
        "outputId": "2e7bd6da-4714-4a11-f983-b169dab4c7aa"
      },
      "execution_count": 3,
      "outputs": [
        {
          "output_type": "execute_result",
          "data": {
            "text/plain": [
              "['apples', 'oranges', 'bananas']"
            ]
          },
          "metadata": {},
          "execution_count": 3
        }
      ]
    },
    {
      "cell_type": "markdown",
      "source": [
        "# Colab - Lázaro Kauã\n",
        "\n",
        "O que estou achando da atividade até aqui:\n",
        "Estou aprendendo sobre Python, Pandas e Jupyter Notebooks!  É interessante e um pouco desafiador.\n"
      ],
      "metadata": {
        "id": "EP_olIxCCslJ"
      }
    },
    {
      "cell_type": "markdown",
      "source": [
        "**Exercício 2 (Etapa 2):**\n",
        "Carregando os dados do estudo de caso com o Jupyter e o pandas."
      ],
      "metadata": {
        "id": "l3_TGLdYJ3HZ"
      }
    },
    {
      "cell_type": "code",
      "source": [
        "import pandas as pd\n",
        "\n",
        "df = pd.read_excel(\"default_of_credit_card_clients__courseware_version_1_21_19.xls\")\n",
        "\n",
        "# shape retorna (número de linhas, número de colunas)\n",
        "num_de_colunas = df.shape[1]\n",
        "print(f\"numeros de colunas: {num_de_colunas}\")\n",
        "\n",
        "num_de_linhas = df.shape[0] # retorna numero de linhas\n",
        "print(f\"numeros de linhas: {num_de_linhas}\")\n",
        "\n",
        "print(\"Célula de código (Tipos de dados)\")\n",
        "print(df.dtypes)\n",
        "print(\"==============================\")\n",
        "\n",
        "# Célula de código (Estatísticas descritivas para colunas numéricas)\n",
        "print(df.describe())\n",
        "print(\"==============================\")\n",
        "\n",
        "# Célula de código (Frequência para uma coluna categórica - exemplo)\n",
        "#  Substitua 'EDUCATION' pelo nome correto de uma coluna categórica, se houver.\n",
        "print(df['EDUCATION'].value_counts())\n",
        "print(df['SEX'].value_counts())\n",
        "print(df['MARRIAGE'].value_counts())\n",
        "print(df['default payment next month'].value_counts())\n",
        "\n",
        "print(\"==============================\")\n",
        "print(\"Célula de código (Dados faltantes\")\n",
        "print(df.isnull().sum())\n",
        "\n",
        "# ====================================\n",
        "# investigando o porque do PAY_1 esta como object\n",
        "print(\"==============================\")\n",
        "print(df['PAY_1'].unique())\n",
        "\n",
        "print(\"encontrei um not avaible no meio dos numeros, talvez tenha que converter o PAY_1\")\n"
      ],
      "metadata": {
        "colab": {
          "base_uri": "https://localhost:8080/"
        },
        "id": "c0il2xFcDc5x",
        "outputId": "e568a33d-f704-4008-dbdb-ae79047e4959"
      },
      "execution_count": 12,
      "outputs": [
        {
          "output_type": "stream",
          "name": "stdout",
          "text": [
            "numeros de colunas: 25\n",
            "numeros de linhas: 30000\n",
            "Célula de código (Tipos de dados)\n",
            "ID                            object\n",
            "LIMIT_BAL                      int64\n",
            "SEX                            int64\n",
            "EDUCATION                      int64\n",
            "MARRIAGE                       int64\n",
            "AGE                            int64\n",
            "PAY_1                         object\n",
            "PAY_2                          int64\n",
            "PAY_3                          int64\n",
            "PAY_4                          int64\n",
            "PAY_5                          int64\n",
            "PAY_6                          int64\n",
            "BILL_AMT1                      int64\n",
            "BILL_AMT2                      int64\n",
            "BILL_AMT3                      int64\n",
            "BILL_AMT4                      int64\n",
            "BILL_AMT5                      int64\n",
            "BILL_AMT6                      int64\n",
            "PAY_AMT1                       int64\n",
            "PAY_AMT2                       int64\n",
            "PAY_AMT3                       int64\n",
            "PAY_AMT4                       int64\n",
            "PAY_AMT5                       int64\n",
            "PAY_AMT6                       int64\n",
            "default payment next month     int64\n",
            "dtype: object\n",
            "==============================\n",
            "            LIMIT_BAL           SEX     EDUCATION      MARRIAGE           AGE  \\\n",
            "count    30000.000000  30000.000000  30000.000000  30000.000000  30000.000000   \n",
            "mean    165760.989333      1.586500      1.833333      1.535900     35.108800   \n",
            "std     130158.590432      0.513348      0.807699      0.542698      9.851592   \n",
            "min          0.000000      0.000000      0.000000      0.000000      0.000000   \n",
            "25%      50000.000000      1.000000      1.000000      1.000000     28.000000   \n",
            "50%     140000.000000      2.000000      2.000000      2.000000     34.000000   \n",
            "75%     240000.000000      2.000000      2.000000      2.000000     41.000000   \n",
            "max    1000000.000000      2.000000      6.000000      3.000000     79.000000   \n",
            "\n",
            "              PAY_2         PAY_3         PAY_4         PAY_5         PAY_6  \\\n",
            "count  30000.000000  30000.000000  30000.000000  30000.000000  30000.000000   \n",
            "mean      -0.132867     -0.164333     -0.219300     -0.263900     -0.288033   \n",
            "std        1.191215      1.191096      1.162348      1.127519      1.144981   \n",
            "min       -2.000000     -2.000000     -2.000000     -2.000000     -2.000000   \n",
            "25%       -1.000000     -1.000000     -1.000000     -1.000000     -1.000000   \n",
            "50%        0.000000      0.000000      0.000000      0.000000      0.000000   \n",
            "75%        0.000000      0.000000      0.000000      0.000000      0.000000   \n",
            "max        8.000000      8.000000      8.000000      8.000000      8.000000   \n",
            "\n",
            "       ...      BILL_AMT4      BILL_AMT5      BILL_AMT6       PAY_AMT1  \\\n",
            "count  ...   30000.000000   30000.000000   30000.000000   30000.000000   \n",
            "mean   ...   42791.362167   39884.398167   38480.350933    5613.321500   \n",
            "std    ...   64090.316188   60606.644833   59406.836932   16539.094312   \n",
            "min    ... -170000.000000  -81334.000000 -339603.000000       0.000000   \n",
            "25%    ...    2034.000000    1534.000000    1080.000000     836.000000   \n",
            "50%    ...   18759.500000   17835.500000   16643.000000    2084.500000   \n",
            "75%    ...   53572.250000   49804.000000   48863.500000    5000.000000   \n",
            "max    ...  891586.000000  927171.000000  961664.000000  873552.000000   \n",
            "\n",
            "           PAY_AMT2       PAY_AMT3       PAY_AMT4       PAY_AMT5  \\\n",
            "count  3.000000e+04   30000.000000   30000.000000   30000.000000   \n",
            "mean   5.855410e+03    5174.387967    4776.089733    4754.749200   \n",
            "std    2.299256e+04   17565.538305   15532.893047   15239.070708   \n",
            "min    0.000000e+00       0.000000       0.000000       0.000000   \n",
            "25%    7.217500e+02     371.000000     223.000000     170.750000   \n",
            "50%    2.000000e+03    1776.000000    1500.000000    1500.000000   \n",
            "75%    5.000000e+03    4500.000000    4000.000000    4000.000000   \n",
            "max    1.684259e+06  896040.000000  621000.000000  426529.000000   \n",
            "\n",
            "            PAY_AMT6  default payment next month  \n",
            "count   30000.000000                30000.000000  \n",
            "mean     5164.223267                    0.218733  \n",
            "std     17712.664703                    0.413394  \n",
            "min         0.000000                    0.000000  \n",
            "25%         9.000000                    0.000000  \n",
            "50%      1500.000000                    0.000000  \n",
            "75%      4000.000000                    0.000000  \n",
            "max    528666.000000                    1.000000  \n",
            "\n",
            "[8 rows x 23 columns]\n",
            "==============================\n",
            "EDUCATION\n",
            "2    13884\n",
            "1    10474\n",
            "3     4867\n",
            "0      329\n",
            "5      275\n",
            "4      122\n",
            "6       49\n",
            "Name: count, dtype: int64\n",
            "SEX\n",
            "2    17910\n",
            "1    11775\n",
            "0      315\n",
            "Name: count, dtype: int64\n",
            "MARRIAGE\n",
            "2    15810\n",
            "1    13503\n",
            "0      369\n",
            "3      318\n",
            "Name: count, dtype: int64\n",
            "default payment next month\n",
            "0    23438\n",
            "1     6562\n",
            "Name: count, dtype: int64\n",
            "==============================\n",
            "Célula de código (Dados faltantes\n",
            "ID                            0\n",
            "LIMIT_BAL                     0\n",
            "SEX                           0\n",
            "EDUCATION                     0\n",
            "MARRIAGE                      0\n",
            "AGE                           0\n",
            "PAY_1                         0\n",
            "PAY_2                         0\n",
            "PAY_3                         0\n",
            "PAY_4                         0\n",
            "PAY_5                         0\n",
            "PAY_6                         0\n",
            "BILL_AMT1                     0\n",
            "BILL_AMT2                     0\n",
            "BILL_AMT3                     0\n",
            "BILL_AMT4                     0\n",
            "BILL_AMT5                     0\n",
            "BILL_AMT6                     0\n",
            "PAY_AMT1                      0\n",
            "PAY_AMT2                      0\n",
            "PAY_AMT3                      0\n",
            "PAY_AMT4                      0\n",
            "PAY_AMT5                      0\n",
            "PAY_AMT6                      0\n",
            "default payment next month    0\n",
            "dtype: int64\n",
            "==============================\n",
            "[2 -1 0 -2 1 'Not available' 3 4 8 7 5 6]\n",
            "encontrei um not avaible no meio dos numeros, talvez tenha que converter o PAY_1\n"
          ]
        }
      ]
    }
  ]
}